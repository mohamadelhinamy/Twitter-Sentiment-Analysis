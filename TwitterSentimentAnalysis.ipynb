{
 "cells": [
  {
   "cell_type": "code",
   "execution_count": 182,
   "metadata": {},
   "outputs": [
    {
     "name": "stdout",
     "output_type": "stream",
     "text": [
      "14641\n"
     ]
    }
   ],
   "source": [
    "import csv as csv\n",
    "import numpy as np \n",
    "with open('Tweets.csv') as csv_file:\n",
    "    tweets = csv.reader(csv_file , delimiter=',')\n",
    "    labels = list()\n",
    "    airlines = list()\n",
    "    sentiment_confidence = list()\n",
    "    text = list()\n",
    "    for tweet in tweets:\n",
    "        labels.append(tweet[1])\n",
    "        airlines.append(tweet[5])\n",
    "        sentiment_confidence.append(tweet[2])\n",
    "        text.append(tweet[10])\n",
    "    print(len(labels))\n",
    "    text_copy = text.copy()"
   ]
  },
  {
   "cell_type": "code",
   "execution_count": 223,
   "metadata": {},
   "outputs": [
    {
     "name": "stdout",
     "output_type": "stream",
     "text": [
      "12363\n",
      "12363\n"
     ]
    }
   ],
   "source": [
    "from langdetect import detect \n",
    "text2 = list()\n",
    "airlines2 = list()\n",
    "sentiment_confidence2 = list()\n",
    "labels2= list()\n",
    "for i,t in enumerate(text[:]): \n",
    "    \n",
    "    if detect(t) != 'en' :\n",
    "        continue\n",
    "    \n",
    "    if len(t) < 20 :\n",
    "        continue\n",
    "    \n",
    "    if 'RT' in t :\n",
    "        continue\n",
    "                \n",
    "\n",
    "    \n",
    "    text2.append(text[i])\n",
    "    airlines2.append(airlines[i])\n",
    "    sentiment_confidence2.append(sentiment_confidence[i])\n",
    "    labels2.append(labels[i])\n",
    "    \n",
    "    \n",
    "labels = labels2\n",
    "print(len(labels))\n",
    "text = text2\n",
    "print(len(text))\n",
    "airlines = airlines2\n",
    "sentiment_confidence = sentiment_confidence2\n",
    "        \n",
    "\n"
   ]
  },
  {
   "cell_type": "code",
   "execution_count": 254,
   "metadata": {},
   "outputs": [
    {
     "name": "stdout",
     "output_type": "stream",
     "text": [
      "virginamerica know suicid second lead cau death among teen 1024\n",
      "12363\n",
      "12363\n"
     ]
    }
   ],
   "source": [
    "from nltk.corpus import stopwords\n",
    "from nltk.stem import PorterStemmer\n",
    "from nltk.tokenize import word_tokenize\n",
    "import nltk\n",
    "import re,string\n",
    "from string import punctuation\n",
    "\n",
    "\n",
    "text3 = list()\n",
    "text4 = list()\n",
    "text5 = list()\n",
    "text6 = list()\n",
    "text7 = list()\n",
    "             \n",
    "# removing urls\n",
    "for t in text:\n",
    "    r = re.sub(r\"http\\S+\", \"\",t).strip()\n",
    "    text3.append(r)\n",
    "    \n",
    "#removing punctuation\n",
    "pattern = string.punctuation\n",
    "for t in text3:\n",
    "    r1 = ''.join([word for word in t if word not in pattern])\n",
    "    text5.append(r1)\n",
    "                \n",
    "#tokenizing\n",
    "for t in text5:\n",
    "    tokenized = word_tokenize(t)\n",
    "    text4.append(tokenized)\n",
    "\n",
    "#stemming                \n",
    "ps = PorterStemmer()\n",
    "text6 = [[ps.stem(word) for word in words] for words in text4]\n",
    "# print(text6[7])\n",
    "\n",
    "#removing stopwords\n",
    "for t in text6:\n",
    "    t = [word for word in t if word not in stopwords.words('english')]\n",
    "    text7.append(t)\n",
    "# print(text7[7])    \n",
    "\n",
    "\n",
    "text = [' '.join(words) for words in text7]\n",
    "print(text[7])\n",
    "print(len(text))\n",
    "print(len(labels))\n"
   ]
  },
  {
   "cell_type": "code",
   "execution_count": 268,
   "metadata": {},
   "outputs": [
    {
     "name": "stdout",
     "output_type": "stream",
     "text": [
      "(9890, 10163)\n",
      "(2473, 10163)\n"
     ]
    }
   ],
   "source": [
    "# create training and testing vars\n",
    "import sklearn\n",
    "from sklearn.model_selection import train_test_split\n",
    "from sklearn.feature_extraction.text import TfidfVectorizer\n",
    "X_train, X_test, y_train, y_test = train_test_split(text, labels , test_size=0.2,random_state=1)\n",
    "Vec = TfidfVectorizer()\n",
    "X_train2 = Vec.fit_transform(X_train)\n",
    "X_test2 = Vec.transform(X_test)\n",
    "print (X_train2.shape)\n",
    "print(X_test2.shape)\n",
    "\n"
   ]
  },
  {
   "cell_type": "code",
   "execution_count": 267,
   "metadata": {},
   "outputs": [
    {
     "data": {
      "text/plain": [
       "MultinomialNB(alpha=1.0, class_prior=None, fit_prior=True)"
      ]
     },
     "execution_count": 267,
     "metadata": {},
     "output_type": "execute_result"
    }
   ],
   "source": [
    "from sklearn.naive_bayes import MultinomialNB\n",
    "NB = MultinomialNB()\n",
    "NB.fit(X_train2, y_train)\n",
    "# print(NB.score(X_train2, y_train))\n"
   ]
  },
  {
   "cell_type": "code",
   "execution_count": 266,
   "metadata": {},
   "outputs": [
    {
     "data": {
      "text/plain": [
       "KNeighborsClassifier(algorithm='auto', leaf_size=30, metric='minkowski',\n",
       "           metric_params=None, n_jobs=None, n_neighbors=3, p=2,\n",
       "           weights='uniform')"
      ]
     },
     "execution_count": 266,
     "metadata": {},
     "output_type": "execute_result"
    }
   ],
   "source": [
    "from sklearn.neighbors import KNeighborsClassifier\n",
    "neigh = KNeighborsClassifier(n_neighbors=3)\n",
    "neigh.fit(X_train2, y_train)\n",
    "# print(neigh.score(X_train2, y_train))"
   ]
  },
  {
   "cell_type": "code",
   "execution_count": 264,
   "metadata": {},
   "outputs": [
    {
     "name": "stderr",
     "output_type": "stream",
     "text": [
      "/usr/local/lib/python3.7/site-packages/sklearn/ensemble/forest.py:246: FutureWarning: The default value of n_estimators will change from 10 in version 0.20 to 100 in 0.22.\n",
      "  \"10 in version 0.20 to 100 in 0.22.\", FutureWarning)\n"
     ]
    },
    {
     "data": {
      "text/plain": [
       "RandomForestClassifier(bootstrap=True, class_weight=None, criterion='gini',\n",
       "            max_depth=None, max_features='auto', max_leaf_nodes=None,\n",
       "            min_impurity_decrease=0.0, min_impurity_split=None,\n",
       "            min_samples_leaf=1, min_samples_split=2,\n",
       "            min_weight_fraction_leaf=0.0, n_estimators=10, n_jobs=None,\n",
       "            oob_score=False, random_state=None, verbose=0,\n",
       "            warm_start=False)"
      ]
     },
     "execution_count": 264,
     "metadata": {},
     "output_type": "execute_result"
    }
   ],
   "source": [
    "from sklearn.ensemble import RandomForestClassifier\n",
    "RF = RandomForestClassifier()\n",
    "RF.fit(X_train2, y_train)\n",
    "# print(RF.score(X_train2, y_train))\n"
   ]
  },
  {
   "cell_type": "code",
   "execution_count": 269,
   "metadata": {},
   "outputs": [
    {
     "name": "stdout",
     "output_type": "stream",
     "text": [
      "0.7472705216336433\n"
     ]
    }
   ],
   "source": [
    "from sklearn.metrics import f1_score\n",
    "y_pred = RF.predict(X_test2)\n",
    "score = f1_score(y_test, y_pred, average='micro')\n",
    "print(score)"
   ]
  },
  {
   "cell_type": "code",
   "execution_count": 270,
   "metadata": {},
   "outputs": [
    {
     "name": "stdout",
     "output_type": "stream",
     "text": [
      "0.7007682976142338\n"
     ]
    }
   ],
   "source": [
    "from sklearn.metrics import f1_score\n",
    "y_pred = neigh.predict(X_test2)\n",
    "score = f1_score(y_test, y_pred, average='micro')\n",
    "print(score)"
   ]
  },
  {
   "cell_type": "code",
   "execution_count": 271,
   "metadata": {},
   "outputs": [
    {
     "name": "stdout",
     "output_type": "stream",
     "text": [
      "0.6870198139911039\n"
     ]
    }
   ],
   "source": [
    "from sklearn.metrics import f1_score\n",
    "y_pred = NB.predict(X_test2)\n",
    "score = f1_score(y_test, y_pred, average='micro')\n",
    "print(score)"
   ]
  },
  {
   "cell_type": "code",
   "execution_count": null,
   "metadata": {},
   "outputs": [],
   "source": []
  }
 ],
 "metadata": {
  "kernelspec": {
   "display_name": "Python 3",
   "language": "python",
   "name": "python3"
  },
  "language_info": {
   "codemirror_mode": {
    "name": "ipython",
    "version": 3
   },
   "file_extension": ".py",
   "mimetype": "text/x-python",
   "name": "python",
   "nbconvert_exporter": "python",
   "pygments_lexer": "ipython3",
   "version": "3.7.0"
  }
 },
 "nbformat": 4,
 "nbformat_minor": 2
}
